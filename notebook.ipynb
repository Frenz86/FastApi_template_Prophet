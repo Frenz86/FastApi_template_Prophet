{
 "cells": [
  {
   "cell_type": "code",
   "execution_count": 1,
   "metadata": {
    "colab": {
     "base_uri": "https://localhost:8080/"
    },
    "executionInfo": {
     "elapsed": 7522,
     "status": "ok",
     "timestamp": 1618438334761,
     "user": {
      "displayName": "T3Lab Vision",
      "photoUrl": "",
      "userId": "14779383426442114373"
     },
     "user_tz": -120
    },
    "id": "AKzkxal3SRM1",
    "outputId": "4e3bcb0a-6d9a-43c7-ac1f-03ca6f91b954"
   },
   "outputs": [
    {
     "name": "stdout",
     "output_type": "stream",
     "text": [
      "Collecting yfinance\n",
      "  Downloading https://files.pythonhosted.org/packages/a7/ee/315752b9ef281ba83c62aa7ec2e2074f85223da6e7e74efb4d3e11c0f510/yfinance-0.1.59.tar.gz\n",
      "Requirement already satisfied: pandas>=0.24 in /usr/local/lib/python3.7/dist-packages (from yfinance) (1.1.5)\n",
      "Requirement already satisfied: numpy>=1.15 in /usr/local/lib/python3.7/dist-packages (from yfinance) (1.19.5)\n",
      "Requirement already satisfied: requests>=2.20 in /usr/local/lib/python3.7/dist-packages (from yfinance) (2.23.0)\n",
      "Requirement already satisfied: multitasking>=0.0.7 in /usr/local/lib/python3.7/dist-packages (from yfinance) (0.0.9)\n",
      "Collecting lxml>=4.5.1\n",
      "\u001b[?25l  Downloading https://files.pythonhosted.org/packages/cf/4d/6537313bf58fe22b508f08cf3eb86b29b6f9edf68e00454224539421073b/lxml-4.6.3-cp37-cp37m-manylinux1_x86_64.whl (5.5MB)\n",
      "\u001b[K     |████████████████████████████████| 5.5MB 11.6MB/s \n",
      "\u001b[?25hRequirement already satisfied: pytz>=2017.2 in /usr/local/lib/python3.7/dist-packages (from pandas>=0.24->yfinance) (2018.9)\n",
      "Requirement already satisfied: python-dateutil>=2.7.3 in /usr/local/lib/python3.7/dist-packages (from pandas>=0.24->yfinance) (2.8.1)\n",
      "Requirement already satisfied: idna<3,>=2.5 in /usr/local/lib/python3.7/dist-packages (from requests>=2.20->yfinance) (2.10)\n",
      "Requirement already satisfied: urllib3!=1.25.0,!=1.25.1,<1.26,>=1.21.1 in /usr/local/lib/python3.7/dist-packages (from requests>=2.20->yfinance) (1.24.3)\n",
      "Requirement already satisfied: certifi>=2017.4.17 in /usr/local/lib/python3.7/dist-packages (from requests>=2.20->yfinance) (2020.12.5)\n",
      "Requirement already satisfied: chardet<4,>=3.0.2 in /usr/local/lib/python3.7/dist-packages (from requests>=2.20->yfinance) (3.0.4)\n",
      "Requirement already satisfied: six>=1.5 in /usr/local/lib/python3.7/dist-packages (from python-dateutil>=2.7.3->pandas>=0.24->yfinance) (1.15.0)\n",
      "Building wheels for collected packages: yfinance\n",
      "  Building wheel for yfinance (setup.py) ... \u001b[?25l\u001b[?25hdone\n",
      "  Created wheel for yfinance: filename=yfinance-0.1.59-py2.py3-none-any.whl size=23442 sha256=1a995159b390aa85e94024dab1563bcf49ac263a6c37650db7baee69bc86efc6\n",
      "  Stored in directory: /root/.cache/pip/wheels/f8/2a/0f/4b5a86e1d52e451757eb6bc17fd899629f0925c777741b6d04\n",
      "Successfully built yfinance\n",
      "Installing collected packages: lxml, yfinance\n",
      "  Found existing installation: lxml 4.2.6\n",
      "    Uninstalling lxml-4.2.6:\n",
      "      Successfully uninstalled lxml-4.2.6\n",
      "Successfully installed lxml-4.6.3 yfinance-0.1.59\n"
     ]
    }
   ],
   "source": [
    "!pip install yfinance"
   ]
  },
  {
   "cell_type": "code",
   "execution_count": 4,
   "metadata": {
    "colab": {
     "base_uri": "https://localhost:8080/"
    },
    "executionInfo": {
     "elapsed": 498,
     "status": "ok",
     "timestamp": 1618438384650,
     "user": {
      "displayName": "T3Lab Vision",
      "photoUrl": "",
      "userId": "14779383426442114373"
     },
     "user_tz": -120
    },
    "id": "LSY3Xk_BRr-f",
    "outputId": "65c2fb10-121c-4fa2-d18c-1309f5f4c476"
   },
   "outputs": [
    {
     "name": "stdout",
     "output_type": "stream",
     "text": [
      "Overwriting model.py\n"
     ]
    }
   ],
   "source": [
    "%%writefile model.py\n",
    "\n",
    "\n",
    "import datetime\n",
    "from pathlib import Path\n",
    "\n",
    "import joblib\n",
    "import pandas as pd\n",
    "import yfinance as yf\n",
    "from fbprophet import Prophet\n",
    "\n",
    "BASE_DIR = Path(__file__).resolve(strict=True).parent\n",
    "TODAY = datetime.date.today()\n",
    "\n",
    "\n",
    "def train(ticker=\"MSFT\"):\n",
    "    # data = yf.download(\"^GSPC\", \"2008-01-01\", TODAY.strftime(\"%Y-%m-%d\"))\n",
    "    data = yf.download(ticker, \"2020-01-01\", TODAY.strftime(\"%Y-%m-%d\"))\n",
    "    #data.head()\n",
    "    #data[\"Adj Close\"].plot(title=f\"{ticker} Stock Adjusted Closing Price\")\n",
    "    df_forecast = data.copy()\n",
    "    df_forecast.reset_index(inplace=True)\n",
    "    df_forecast[\"ds\"] = df_forecast[\"Date\"]\n",
    "    df_forecast[\"y\"] = df_forecast[\"Adj Close\"]\n",
    "    df_forecast = df_forecast[[\"ds\", \"y\"]]\n",
    "    df_forecast\n",
    "\n",
    "    model = Prophet()\n",
    "    model.fit(df_forecast)\n",
    "\n",
    "    joblib.dump(model, Path(BASE_DIR).joinpath(f\"{ticker}.pkl\"))\n",
    "\n",
    "\n",
    "def predict(ticker=\"MSFT\", days=7):\n",
    "    model_file = Path(BASE_DIR).joinpath(f\"{ticker}.pkl\")\n",
    "    if not model_file.exists():\n",
    "        return False\n",
    "\n",
    "    model = joblib.load(model_file)\n",
    "\n",
    "    future = TODAY + datetime.timedelta(days=days)\n",
    "\n",
    "    dates = pd.date_range(start=\"2020-01-01\", end=future.strftime(\"%m/%d/%Y\"),)\n",
    "    df = pd.DataFrame({\"ds\": dates})\n",
    "\n",
    "    forecast = model.predict(df)\n",
    "\n",
    "    #model.plot(forecast).savefig(f\"{ticker}_plot.png\")\n",
    "    #model.plot_components(forecast).savefig(f\"{ticker}_plot_components.png\")\n",
    "\n",
    "    return forecast.tail(days).to_dict(\"records\")\n",
    "\n",
    "\n",
    "def convert(prediction_list):\n",
    "    output = {}\n",
    "    for data in prediction_list:\n",
    "        date = data[\"ds\"].strftime(\"%m/%d/%Y\")\n",
    "        output[date] = data[\"trend\"]\n",
    "    return output"
   ]
  },
  {
   "cell_type": "code",
   "execution_count": 5,
   "metadata": {
    "colab": {
     "base_uri": "https://localhost:8080/"
    },
    "executionInfo": {
     "elapsed": 743,
     "status": "ok",
     "timestamp": 1618438387656,
     "user": {
      "displayName": "T3Lab Vision",
      "photoUrl": "",
      "userId": "14779383426442114373"
     },
     "user_tz": -120
    },
    "id": "aXKV1XyTcOHB",
    "outputId": "56f3985c-ff5e-4889-da87-1eddaa6a6080"
   },
   "outputs": [
    {
     "name": "stdout",
     "output_type": "stream",
     "text": [
      "model.py  \u001b[0m\u001b[01;34msample_data\u001b[0m/\n"
     ]
    }
   ],
   "source": [
    "ls"
   ]
  },
  {
   "cell_type": "code",
   "execution_count": 1,
   "metadata": {
    "executionInfo": {
     "elapsed": 1578,
     "status": "ok",
     "timestamp": 1618438397737,
     "user": {
      "displayName": "T3Lab Vision",
      "photoUrl": "",
      "userId": "14779383426442114373"
     },
     "user_tz": -120
    },
    "id": "e2RBedE8SNJr"
   },
   "outputs": [],
   "source": [
    "#from model import train, predict, convert\n",
    "from model import predict, convert"
   ]
  },
  {
   "cell_type": "code",
   "execution_count": 7,
   "metadata": {
    "colab": {
     "base_uri": "https://localhost:8080/"
    },
    "executionInfo": {
     "elapsed": 2759,
     "status": "ok",
     "timestamp": 1618438401080,
     "user": {
      "displayName": "T3Lab Vision",
      "photoUrl": "",
      "userId": "14779383426442114373"
     },
     "user_tz": -120
    },
    "id": "WehudyuOSPFB",
    "outputId": "34c5637d-827a-4c6b-a4bd-e989b6196d85"
   },
   "outputs": [
    {
     "name": "stdout",
     "output_type": "stream",
     "text": [
      "\r",
      "[*********************100%***********************]  1 of 1 completed\n"
     ]
    },
    {
     "name": "stderr",
     "output_type": "stream",
     "text": [
      "INFO:fbprophet:Disabling yearly seasonality. Run prophet with yearly_seasonality=True to override this.\n",
      "INFO:fbprophet:Disabling daily seasonality. Run prophet with daily_seasonality=True to override this.\n"
     ]
    }
   ],
   "source": [
    "train()"
   ]
  },
  {
   "cell_type": "code",
   "execution_count": 2,
   "metadata": {
    "colab": {
     "base_uri": "https://localhost:8080/"
    },
    "executionInfo": {
     "elapsed": 2504,
     "status": "ok",
     "timestamp": 1618438409000,
     "user": {
      "displayName": "T3Lab Vision",
      "photoUrl": "",
      "userId": "14779383426442114373"
     },
     "user_tz": -120
    },
    "id": "VPWmFCtvSX6c",
    "outputId": "f44efbb4-e994-4884-f938-624cf6922818"
   },
   "outputs": [
    {
     "name": "stderr",
     "output_type": "stream",
     "text": [
      "WARNING:pystan:No module named 'stanfit4anon_model_dfdaf2b8ece8a02eb11f050ec701c0ec_1620161591495278100'\n",
      "WARNING:pystan:Something went wrong while unpickling the StanModel. Consider recompiling.\n",
      "INFO:numexpr.utils:Note: NumExpr detected 12 cores but \"NUMEXPR_MAX_THREADS\" not set, so enforcing safe limit of 8.\n",
      "INFO:numexpr.utils:NumExpr defaulting to 8 threads.\n"
     ]
    },
    {
     "ename": "AttributeError",
     "evalue": "'DataFrame' object has no attribute '_data'",
     "output_type": "error",
     "traceback": [
      "\u001b[1;31m---------------------------------------------------------------------------\u001b[0m",
      "\u001b[1;31mAttributeError\u001b[0m                            Traceback (most recent call last)",
      "\u001b[1;32m<ipython-input-2-31f4fa00fb0e>\u001b[0m in \u001b[0;36m<module>\u001b[1;34m\u001b[0m\n\u001b[1;32m----> 1\u001b[1;33m \u001b[0mprediction_list\u001b[0m \u001b[1;33m=\u001b[0m \u001b[0mpredict\u001b[0m\u001b[1;33m(\u001b[0m\u001b[1;33m)\u001b[0m\u001b[1;33m\u001b[0m\u001b[1;33m\u001b[0m\u001b[0m\n\u001b[0m\u001b[0;32m      2\u001b[0m \u001b[0mprediction_list\u001b[0m\u001b[1;33m\u001b[0m\u001b[1;33m\u001b[0m\u001b[0m\n",
      "\u001b[1;32m~\\Google Drive\\repos\\streamlit\\FastApi_template_Prophet\\model.py\u001b[0m in \u001b[0;36mpredict\u001b[1;34m(ticker, days)\u001b[0m\n\u001b[0;32m     20\u001b[0m     \u001b[0mdf\u001b[0m \u001b[1;33m=\u001b[0m \u001b[0mpd\u001b[0m\u001b[1;33m.\u001b[0m\u001b[0mDataFrame\u001b[0m\u001b[1;33m(\u001b[0m\u001b[1;33m{\u001b[0m\u001b[1;34m\"ds\"\u001b[0m\u001b[1;33m:\u001b[0m \u001b[0mdates\u001b[0m\u001b[1;33m}\u001b[0m\u001b[1;33m)\u001b[0m\u001b[1;33m\u001b[0m\u001b[1;33m\u001b[0m\u001b[0m\n\u001b[0;32m     21\u001b[0m \u001b[1;33m\u001b[0m\u001b[0m\n\u001b[1;32m---> 22\u001b[1;33m     \u001b[0mforecast\u001b[0m \u001b[1;33m=\u001b[0m \u001b[0mmodel\u001b[0m\u001b[1;33m.\u001b[0m\u001b[0mpredict\u001b[0m\u001b[1;33m(\u001b[0m\u001b[0mdf\u001b[0m\u001b[1;33m)\u001b[0m\u001b[1;33m\u001b[0m\u001b[1;33m\u001b[0m\u001b[0m\n\u001b[0m\u001b[0;32m     23\u001b[0m \u001b[1;33m\u001b[0m\u001b[0m\n\u001b[0;32m     24\u001b[0m     \u001b[1;31m#model.plot(forecast).savefig(f\"{ticker}_plot.png\")\u001b[0m\u001b[1;33m\u001b[0m\u001b[1;33m\u001b[0m\u001b[1;33m\u001b[0m\u001b[0m\n",
      "\u001b[1;32mc:\\users\\danie\\appdata\\local\\programs\\python\\python38\\lib\\site-packages\\fbprophet\\forecaster.py\u001b[0m in \u001b[0;36mpredict\u001b[1;34m(self, df)\u001b[0m\n\u001b[0;32m   1200\u001b[0m \u001b[1;33m\u001b[0m\u001b[0m\n\u001b[0;32m   1201\u001b[0m         \u001b[0mdf\u001b[0m\u001b[1;33m[\u001b[0m\u001b[1;34m'trend'\u001b[0m\u001b[1;33m]\u001b[0m \u001b[1;33m=\u001b[0m \u001b[0mself\u001b[0m\u001b[1;33m.\u001b[0m\u001b[0mpredict_trend\u001b[0m\u001b[1;33m(\u001b[0m\u001b[0mdf\u001b[0m\u001b[1;33m)\u001b[0m\u001b[1;33m\u001b[0m\u001b[1;33m\u001b[0m\u001b[0m\n\u001b[1;32m-> 1202\u001b[1;33m         \u001b[0mseasonal_components\u001b[0m \u001b[1;33m=\u001b[0m \u001b[0mself\u001b[0m\u001b[1;33m.\u001b[0m\u001b[0mpredict_seasonal_components\u001b[0m\u001b[1;33m(\u001b[0m\u001b[0mdf\u001b[0m\u001b[1;33m)\u001b[0m\u001b[1;33m\u001b[0m\u001b[1;33m\u001b[0m\u001b[0m\n\u001b[0m\u001b[0;32m   1203\u001b[0m         \u001b[1;32mif\u001b[0m \u001b[0mself\u001b[0m\u001b[1;33m.\u001b[0m\u001b[0muncertainty_samples\u001b[0m\u001b[1;33m:\u001b[0m\u001b[1;33m\u001b[0m\u001b[1;33m\u001b[0m\u001b[0m\n\u001b[0;32m   1204\u001b[0m             \u001b[0mintervals\u001b[0m \u001b[1;33m=\u001b[0m \u001b[0mself\u001b[0m\u001b[1;33m.\u001b[0m\u001b[0mpredict_uncertainty\u001b[0m\u001b[1;33m(\u001b[0m\u001b[0mdf\u001b[0m\u001b[1;33m)\u001b[0m\u001b[1;33m\u001b[0m\u001b[1;33m\u001b[0m\u001b[0m\n",
      "\u001b[1;32mc:\\users\\danie\\appdata\\local\\programs\\python\\python38\\lib\\site-packages\\fbprophet\\forecaster.py\u001b[0m in \u001b[0;36mpredict_seasonal_components\u001b[1;34m(self, df)\u001b[0m\n\u001b[0;32m   1337\u001b[0m         \"\"\"\n\u001b[0;32m   1338\u001b[0m         seasonal_features, _, component_cols, _ = (\n\u001b[1;32m-> 1339\u001b[1;33m             \u001b[0mself\u001b[0m\u001b[1;33m.\u001b[0m\u001b[0mmake_all_seasonality_features\u001b[0m\u001b[1;33m(\u001b[0m\u001b[0mdf\u001b[0m\u001b[1;33m)\u001b[0m\u001b[1;33m\u001b[0m\u001b[1;33m\u001b[0m\u001b[0m\n\u001b[0m\u001b[0;32m   1340\u001b[0m         )\n\u001b[0;32m   1341\u001b[0m         \u001b[1;32mif\u001b[0m \u001b[0mself\u001b[0m\u001b[1;33m.\u001b[0m\u001b[0muncertainty_samples\u001b[0m\u001b[1;33m:\u001b[0m\u001b[1;33m\u001b[0m\u001b[1;33m\u001b[0m\u001b[0m\n",
      "\u001b[1;32mc:\\users\\danie\\appdata\\local\\programs\\python\\python38\\lib\\site-packages\\fbprophet\\forecaster.py\u001b[0m in \u001b[0;36mmake_all_seasonality_features\u001b[1;34m(self, df)\u001b[0m\n\u001b[0;32m    799\u001b[0m \u001b[1;33m\u001b[0m\u001b[0m\n\u001b[0;32m    800\u001b[0m         \u001b[0mseasonal_features\u001b[0m \u001b[1;33m=\u001b[0m \u001b[0mpd\u001b[0m\u001b[1;33m.\u001b[0m\u001b[0mconcat\u001b[0m\u001b[1;33m(\u001b[0m\u001b[0mseasonal_features\u001b[0m\u001b[1;33m,\u001b[0m \u001b[0maxis\u001b[0m\u001b[1;33m=\u001b[0m\u001b[1;36m1\u001b[0m\u001b[1;33m)\u001b[0m\u001b[1;33m\u001b[0m\u001b[1;33m\u001b[0m\u001b[0m\n\u001b[1;32m--> 801\u001b[1;33m         component_cols, modes = self.regressor_column_matrix(\n\u001b[0m\u001b[0;32m    802\u001b[0m             \u001b[0mseasonal_features\u001b[0m\u001b[1;33m,\u001b[0m \u001b[0mmodes\u001b[0m\u001b[1;33m\u001b[0m\u001b[1;33m\u001b[0m\u001b[0m\n\u001b[0;32m    803\u001b[0m         )\n",
      "\u001b[1;32mc:\\users\\danie\\appdata\\local\\programs\\python\\python38\\lib\\site-packages\\fbprophet\\forecaster.py\u001b[0m in \u001b[0;36mregressor_column_matrix\u001b[1;34m(self, seasonal_features, modes)\u001b[0m\n\u001b[0;32m    866\u001b[0m         \u001b[1;31m# Compare to the training, if set.\u001b[0m\u001b[1;33m\u001b[0m\u001b[1;33m\u001b[0m\u001b[1;33m\u001b[0m\u001b[0m\n\u001b[0;32m    867\u001b[0m         \u001b[1;32mif\u001b[0m \u001b[0mself\u001b[0m\u001b[1;33m.\u001b[0m\u001b[0mtrain_component_cols\u001b[0m \u001b[1;32mis\u001b[0m \u001b[1;32mnot\u001b[0m \u001b[1;32mNone\u001b[0m\u001b[1;33m:\u001b[0m\u001b[1;33m\u001b[0m\u001b[1;33m\u001b[0m\u001b[0m\n\u001b[1;32m--> 868\u001b[1;33m             \u001b[0mcomponent_cols\u001b[0m \u001b[1;33m=\u001b[0m \u001b[0mcomponent_cols\u001b[0m\u001b[1;33m[\u001b[0m\u001b[0mself\u001b[0m\u001b[1;33m.\u001b[0m\u001b[0mtrain_component_cols\u001b[0m\u001b[1;33m.\u001b[0m\u001b[0mcolumns\u001b[0m\u001b[1;33m]\u001b[0m\u001b[1;33m\u001b[0m\u001b[1;33m\u001b[0m\u001b[0m\n\u001b[0m\u001b[0;32m    869\u001b[0m             \u001b[1;32mif\u001b[0m \u001b[1;32mnot\u001b[0m \u001b[0mcomponent_cols\u001b[0m\u001b[1;33m.\u001b[0m\u001b[0mequals\u001b[0m\u001b[1;33m(\u001b[0m\u001b[0mself\u001b[0m\u001b[1;33m.\u001b[0m\u001b[0mtrain_component_cols\u001b[0m\u001b[1;33m)\u001b[0m\u001b[1;33m:\u001b[0m\u001b[1;33m\u001b[0m\u001b[1;33m\u001b[0m\u001b[0m\n\u001b[0;32m    870\u001b[0m                 \u001b[1;32mraise\u001b[0m \u001b[0mException\u001b[0m\u001b[1;33m(\u001b[0m\u001b[1;34m'A bug occurred in constructing regressors.'\u001b[0m\u001b[1;33m)\u001b[0m\u001b[1;33m\u001b[0m\u001b[1;33m\u001b[0m\u001b[0m\n",
      "\u001b[1;32mc:\\users\\danie\\appdata\\local\\programs\\python\\python38\\lib\\site-packages\\pandas\\core\\generic.py\u001b[0m in \u001b[0;36m__getattr__\u001b[1;34m(self, name)\u001b[0m\n\u001b[0;32m   5268\u001b[0m             \u001b[1;32mor\u001b[0m \u001b[0mname\u001b[0m \u001b[1;32min\u001b[0m \u001b[0mself\u001b[0m\u001b[1;33m.\u001b[0m\u001b[0m_accessors\u001b[0m\u001b[1;33m\u001b[0m\u001b[1;33m\u001b[0m\u001b[0m\n\u001b[0;32m   5269\u001b[0m         ):\n\u001b[1;32m-> 5270\u001b[1;33m             \u001b[1;32mreturn\u001b[0m \u001b[0mobject\u001b[0m\u001b[1;33m.\u001b[0m\u001b[0m__getattribute__\u001b[0m\u001b[1;33m(\u001b[0m\u001b[0mself\u001b[0m\u001b[1;33m,\u001b[0m \u001b[0mname\u001b[0m\u001b[1;33m)\u001b[0m\u001b[1;33m\u001b[0m\u001b[1;33m\u001b[0m\u001b[0m\n\u001b[0m\u001b[0;32m   5271\u001b[0m         \u001b[1;32melse\u001b[0m\u001b[1;33m:\u001b[0m\u001b[1;33m\u001b[0m\u001b[1;33m\u001b[0m\u001b[0m\n\u001b[0;32m   5272\u001b[0m             \u001b[1;32mif\u001b[0m \u001b[0mself\u001b[0m\u001b[1;33m.\u001b[0m\u001b[0m_info_axis\u001b[0m\u001b[1;33m.\u001b[0m\u001b[0m_can_hold_identifiers_and_holds_name\u001b[0m\u001b[1;33m(\u001b[0m\u001b[0mname\u001b[0m\u001b[1;33m)\u001b[0m\u001b[1;33m:\u001b[0m\u001b[1;33m\u001b[0m\u001b[1;33m\u001b[0m\u001b[0m\n",
      "\u001b[1;32mpandas\\_libs\\properties.pyx\u001b[0m in \u001b[0;36mpandas._libs.properties.AxisProperty.__get__\u001b[1;34m()\u001b[0m\n",
      "\u001b[1;32mc:\\users\\danie\\appdata\\local\\programs\\python\\python38\\lib\\site-packages\\pandas\\core\\generic.py\u001b[0m in \u001b[0;36m__getattr__\u001b[1;34m(self, name)\u001b[0m\n\u001b[0;32m   5268\u001b[0m             \u001b[1;32mor\u001b[0m \u001b[0mname\u001b[0m \u001b[1;32min\u001b[0m \u001b[0mself\u001b[0m\u001b[1;33m.\u001b[0m\u001b[0m_accessors\u001b[0m\u001b[1;33m\u001b[0m\u001b[1;33m\u001b[0m\u001b[0m\n\u001b[0;32m   5269\u001b[0m         ):\n\u001b[1;32m-> 5270\u001b[1;33m             \u001b[1;32mreturn\u001b[0m \u001b[0mobject\u001b[0m\u001b[1;33m.\u001b[0m\u001b[0m__getattribute__\u001b[0m\u001b[1;33m(\u001b[0m\u001b[0mself\u001b[0m\u001b[1;33m,\u001b[0m \u001b[0mname\u001b[0m\u001b[1;33m)\u001b[0m\u001b[1;33m\u001b[0m\u001b[1;33m\u001b[0m\u001b[0m\n\u001b[0m\u001b[0;32m   5271\u001b[0m         \u001b[1;32melse\u001b[0m\u001b[1;33m:\u001b[0m\u001b[1;33m\u001b[0m\u001b[1;33m\u001b[0m\u001b[0m\n\u001b[0;32m   5272\u001b[0m             \u001b[1;32mif\u001b[0m \u001b[0mself\u001b[0m\u001b[1;33m.\u001b[0m\u001b[0m_info_axis\u001b[0m\u001b[1;33m.\u001b[0m\u001b[0m_can_hold_identifiers_and_holds_name\u001b[0m\u001b[1;33m(\u001b[0m\u001b[0mname\u001b[0m\u001b[1;33m)\u001b[0m\u001b[1;33m:\u001b[0m\u001b[1;33m\u001b[0m\u001b[1;33m\u001b[0m\u001b[0m\n",
      "\u001b[1;31mAttributeError\u001b[0m: 'DataFrame' object has no attribute '_data'"
     ]
    }
   ],
   "source": [
    "prediction_list = predict()\n",
    "prediction_list"
   ]
  },
  {
   "cell_type": "code",
   "execution_count": 9,
   "metadata": {
    "colab": {
     "base_uri": "https://localhost:8080/"
    },
    "executionInfo": {
     "elapsed": 452,
     "status": "ok",
     "timestamp": 1618438413932,
     "user": {
      "displayName": "T3Lab Vision",
      "photoUrl": "",
      "userId": "14779383426442114373"
     },
     "user_tz": -120
    },
    "id": "BXtxJicOTYho",
    "outputId": "54b3ffb3-cb83-4bf6-ee71-678aa3c85466"
   },
   "outputs": [
    {
     "data": {
      "text/plain": [
       "{'04/15/2021': 244.4119605685335,\n",
       " '04/16/2021': 244.64326610149283,\n",
       " '04/17/2021': 244.87457163445214,\n",
       " '04/18/2021': 245.1058771674115,\n",
       " '04/19/2021': 245.33718270037087,\n",
       " '04/20/2021': 245.56848823333019,\n",
       " '04/21/2021': 245.79979376628955}"
      ]
     },
     "execution_count": 9,
     "metadata": {
      "tags": []
     },
     "output_type": "execute_result"
    }
   ],
   "source": [
    "convert(prediction_list)"
   ]
  },
  {
   "cell_type": "code",
   "execution_count": 22,
   "metadata": {
    "executionInfo": {
     "elapsed": 477,
     "status": "ok",
     "timestamp": 1618438745957,
     "user": {
      "displayName": "T3Lab Vision",
      "photoUrl": "",
      "userId": "14779383426442114373"
     },
     "user_tz": -120
    },
    "id": "0dJyzw9aT7H4"
   },
   "outputs": [],
   "source": [
    "import joblib\n",
    "import datetime\n",
    "from pathlib import Path\n",
    "import pandas as pd\n",
    "import yfinance as yf\n",
    "\n",
    "TODAY = datetime.date.today()\n",
    "\n",
    "def predict(ticker=\"MSFT\", days=7):\n",
    "    model_file = (\"\").joinpath(f\"{ticker}.pkl\")\n",
    "    if not model_file.exists():\n",
    "        return False\n",
    "\n",
    "    model = joblib.load(model_file)\n",
    "\n",
    "    future = TODAY + datetime.timedelta(days=days)\n",
    "\n",
    "    dates = pd.date_range(start=\"2020-01-01\", end=future.strftime(\"%m/%d/%Y\"),)\n",
    "    df = pd.DataFrame({\"ds\": dates})\n",
    "\n",
    "    forecast = model.predict(df)\n",
    "\n",
    "    #model.plot(forecast).savefig(f\"{ticker}_plot.png\")\n",
    "    #model.plot_components(forecast).savefig(f\"{ticker}_plot_components.png\")\n",
    "\n",
    "    return forecast.tail(days).to_dict(\"records\")\n",
    "\n",
    "\n",
    "def convert2(prediction_list):\n",
    "    output = {}\n",
    "    for data in prediction_list:\n",
    "        date = data[\"ds\"].strftime(\"%m/%d/%Y\")\n",
    "        output[date] = data[\"trend\"]\n",
    "    return output"
   ]
  },
  {
   "cell_type": "code",
   "execution_count": 23,
   "metadata": {
    "colab": {
     "base_uri": "https://localhost:8080/"
    },
    "executionInfo": {
     "elapsed": 2650,
     "status": "ok",
     "timestamp": 1618438750391,
     "user": {
      "displayName": "T3Lab Vision",
      "photoUrl": "",
      "userId": "14779383426442114373"
     },
     "user_tz": -120
    },
    "id": "PXB4PbFOcyPG",
    "outputId": "0e6bdb6e-c4a3-448d-890b-137760bccf2d"
   },
   "outputs": [
    {
     "data": {
      "text/plain": [
       "[{'additive_terms': 1.5208274912069153,\n",
       "  'additive_terms_lower': 1.5208274912069153,\n",
       "  'additive_terms_upper': 1.5208274912069153,\n",
       "  'ds': Timestamp('2021-04-15 00:00:00'),\n",
       "  'multiplicative_terms': 0.0,\n",
       "  'multiplicative_terms_lower': 0.0,\n",
       "  'multiplicative_terms_upper': 0.0,\n",
       "  'trend': 244.4119605685335,\n",
       "  'trend_lower': 244.4119605685335,\n",
       "  'trend_upper': 244.4119605685335,\n",
       "  'weekly': 1.5208274912069153,\n",
       "  'weekly_lower': 1.5208274912069153,\n",
       "  'weekly_upper': 1.5208274912069153,\n",
       "  'yhat': 245.9327880597404,\n",
       "  'yhat_lower': 235.38180583515233,\n",
       "  'yhat_upper': 255.55258629515583},\n",
       " {'additive_terms': 1.265486523045995,\n",
       "  'additive_terms_lower': 1.265486523045995,\n",
       "  'additive_terms_upper': 1.265486523045995,\n",
       "  'ds': Timestamp('2021-04-16 00:00:00'),\n",
       "  'multiplicative_terms': 0.0,\n",
       "  'multiplicative_terms_lower': 0.0,\n",
       "  'multiplicative_terms_upper': 0.0,\n",
       "  'trend': 244.64326610149283,\n",
       "  'trend_lower': 244.64326610149283,\n",
       "  'trend_upper': 244.64326610149283,\n",
       "  'weekly': 1.265486523045995,\n",
       "  'weekly_lower': 1.265486523045995,\n",
       "  'weekly_upper': 1.265486523045995,\n",
       "  'yhat': 245.90875262453883,\n",
       "  'yhat_lower': 235.67400724246824,\n",
       "  'yhat_upper': 255.5908539143899},\n",
       " {'additive_terms': -3.746825442714879,\n",
       "  'additive_terms_lower': -3.746825442714879,\n",
       "  'additive_terms_upper': -3.746825442714879,\n",
       "  'ds': Timestamp('2021-04-17 00:00:00'),\n",
       "  'multiplicative_terms': 0.0,\n",
       "  'multiplicative_terms_lower': 0.0,\n",
       "  'multiplicative_terms_upper': 0.0,\n",
       "  'trend': 244.87457163445214,\n",
       "  'trend_lower': 244.87457163445214,\n",
       "  'trend_upper': 244.87457163445214,\n",
       "  'weekly': -3.746825442714879,\n",
       "  'weekly_lower': -3.746825442714879,\n",
       "  'weekly_upper': -3.746825442714879,\n",
       "  'yhat': 241.12774619173726,\n",
       "  'yhat_lower': 230.71546765380936,\n",
       "  'yhat_upper': 251.2737784506423},\n",
       " {'additive_terms': -3.746825511593904,\n",
       "  'additive_terms_lower': -3.746825511593904,\n",
       "  'additive_terms_upper': -3.746825511593904,\n",
       "  'ds': Timestamp('2021-04-18 00:00:00'),\n",
       "  'multiplicative_terms': 0.0,\n",
       "  'multiplicative_terms_lower': 0.0,\n",
       "  'multiplicative_terms_upper': 0.0,\n",
       "  'trend': 245.1058771674115,\n",
       "  'trend_lower': 245.09784859310923,\n",
       "  'trend_upper': 245.11851386025018,\n",
       "  'weekly': -3.746825511593904,\n",
       "  'weekly_lower': -3.746825511593904,\n",
       "  'weekly_upper': -3.746825511593904,\n",
       "  'yhat': 241.3590516558176,\n",
       "  'yhat_lower': 231.6961995494898,\n",
       "  'yhat_upper': 251.79354196991432},\n",
       " {'additive_terms': 1.1349105011107072,\n",
       "  'additive_terms_lower': 1.1349105011107072,\n",
       "  'additive_terms_upper': 1.1349105011107072,\n",
       "  'ds': Timestamp('2021-04-19 00:00:00'),\n",
       "  'multiplicative_terms': 0.0,\n",
       "  'multiplicative_terms_lower': 0.0,\n",
       "  'multiplicative_terms_upper': 0.0,\n",
       "  'trend': 245.33718270037087,\n",
       "  'trend_lower': 245.3054884218619,\n",
       "  'trend_upper': 245.37044108848755,\n",
       "  'weekly': 1.1349105011107072,\n",
       "  'weekly_lower': 1.1349105011107072,\n",
       "  'weekly_upper': 1.1349105011107072,\n",
       "  'yhat': 246.47209320148158,\n",
       "  'yhat_lower': 236.82198689615942,\n",
       "  'yhat_upper': 256.7379685666803},\n",
       " {'additive_terms': 1.6617878584725185,\n",
       "  'additive_terms_lower': 1.6617878584725185,\n",
       "  'additive_terms_upper': 1.6617878584725185,\n",
       "  'ds': Timestamp('2021-04-20 00:00:00'),\n",
       "  'multiplicative_terms': 0.0,\n",
       "  'multiplicative_terms_lower': 0.0,\n",
       "  'multiplicative_terms_upper': 0.0,\n",
       "  'trend': 245.56848823333019,\n",
       "  'trend_lower': 245.50414433843878,\n",
       "  'trend_upper': 245.63392860797435,\n",
       "  'weekly': 1.6617878584725185,\n",
       "  'weekly_lower': 1.6617878584725185,\n",
       "  'weekly_upper': 1.6617878584725185,\n",
       "  'yhat': 247.2302760918027,\n",
       "  'yhat_lower': 237.50548632068828,\n",
       "  'yhat_upper': 257.3908124987481},\n",
       " {'additive_terms': 1.9106385804498704,\n",
       "  'additive_terms_lower': 1.9106385804498704,\n",
       "  'additive_terms_upper': 1.9106385804498704,\n",
       "  'ds': Timestamp('2021-04-21 00:00:00'),\n",
       "  'multiplicative_terms': 0.0,\n",
       "  'multiplicative_terms_lower': 0.0,\n",
       "  'multiplicative_terms_upper': 0.0,\n",
       "  'trend': 245.79979376628955,\n",
       "  'trend_lower': 245.69812649076874,\n",
       "  'trend_upper': 245.89986090146343,\n",
       "  'weekly': 1.9106385804498704,\n",
       "  'weekly_lower': 1.9106385804498704,\n",
       "  'weekly_upper': 1.9106385804498704,\n",
       "  'yhat': 247.71043234673942,\n",
       "  'yhat_lower': 237.35319202683536,\n",
       "  'yhat_upper': 258.02174533816856}]"
      ]
     },
     "execution_count": 23,
     "metadata": {
      "tags": []
     },
     "output_type": "execute_result"
    }
   ],
   "source": [
    "prediction_list2 = predict2()\n",
    "prediction_list2"
   ]
  },
  {
   "cell_type": "code",
   "execution_count": 24,
   "metadata": {
    "colab": {
     "base_uri": "https://localhost:8080/"
    },
    "executionInfo": {
     "elapsed": 606,
     "status": "ok",
     "timestamp": 1618438770658,
     "user": {
      "displayName": "T3Lab Vision",
      "photoUrl": "",
      "userId": "14779383426442114373"
     },
     "user_tz": -120
    },
    "id": "Pg6ziN0ecyLu",
    "outputId": "7af9e5ae-5af4-4b9d-bdcb-3817fd4894f7"
   },
   "outputs": [
    {
     "data": {
      "text/plain": [
       "{'04/15/2021': 244.4119605685335,\n",
       " '04/16/2021': 244.64326610149283,\n",
       " '04/17/2021': 244.87457163445214,\n",
       " '04/18/2021': 245.1058771674115,\n",
       " '04/19/2021': 245.33718270037087,\n",
       " '04/20/2021': 245.56848823333019,\n",
       " '04/21/2021': 245.79979376628955}"
      ]
     },
     "execution_count": 24,
     "metadata": {
      "tags": []
     },
     "output_type": "execute_result"
    }
   ],
   "source": [
    "convert2(prediction_list2)"
   ]
  },
  {
   "cell_type": "code",
   "execution_count": null,
   "metadata": {
    "id": "WGzSESYscyJH"
   },
   "outputs": [],
   "source": []
  }
 ],
 "metadata": {
  "colab": {
   "name": "notebook.ipynb",
   "provenance": []
  },
  "kernelspec": {
   "display_name": "Python 3",
   "language": "python",
   "name": "python3"
  },
  "language_info": {
   "codemirror_mode": {
    "name": "ipython",
    "version": 3
   },
   "file_extension": ".py",
   "mimetype": "text/x-python",
   "name": "python",
   "nbconvert_exporter": "python",
   "pygments_lexer": "ipython3",
   "version": "3.8.6"
  }
 },
 "nbformat": 4,
 "nbformat_minor": 1
}
